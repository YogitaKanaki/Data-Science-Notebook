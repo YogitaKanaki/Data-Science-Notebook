{
 "cells": [
  {
   "cell_type": "markdown",
   "id": "8e618985-6d42-48ed-a782-0340c2f2899f",
   "metadata": {},
   "source": [
    "# Data Science Tools and Ecosystem\n"
   ]
  },
  {
   "cell_type": "markdown",
   "id": "350fe636-dc79-4000-ac6c-3f166ae6afe3",
   "metadata": {},
   "source": [
    "In this notebook, Data Science Tools and Ecosystem are summarized."
   ]
  },
  {
   "cell_type": "markdown",
   "id": "d9c2ac9f-9a86-4028-a875-75008e27244c",
   "metadata": {},
   "source": [
    "**Objectives:**\n",
    "\n",
    "- List popular languages for Data Science\n",
    "- Identify commonly used libraries\n",
    "- Create ordered and unordered lists in Markdown\n",
    "- Build tables in Markdown\n",
    "- Write and run simple Python expressions\n"
   ]
  },
  {
   "cell_type": "markdown",
   "id": "9b48f844-d7b5-4612-828e-b7879e471383",
   "metadata": {},
   "source": [
    "Some of the popular languages that Data Scientists use are:\n",
    "\n",
    "1. Python\n",
    "2. R\n",
    "3. SQL\n",
    "\n"
   ]
  },
  {
   "cell_type": "markdown",
   "id": "c88da266-e0cc-4b0b-8b0d-1c9407299ccb",
   "metadata": {},
   "source": [
    "Some of the commonly used libraries used by Data Scientists include:\n",
    "\n",
    "1. Pandas  \n",
    "2. NumPy  \n",
    "3. Matplotlib  \n",
    "4. Scikit-learn  \n",
    "5. Seaborn\n"
   ]
  },
  {
   "cell_type": "markdown",
   "id": "5c800b1c-1736-4f33-b889-dbc386a5f7a7",
   "metadata": {},
   "source": [
    "| Data Science Tools         |\n",
    "|----------------------------|\n",
    "| Jupyter Notebook           |\n",
    "| RStudio                    |\n",
    "| Visual Studio Code (VS Code) |\n"
   ]
  },
  {
   "cell_type": "markdown",
   "id": "05ab6048-88d9-4844-af24-26ee95dc57ee",
   "metadata": {},
   "source": [
    "### Below are a few examples of evaluating arithmetic expressions in Python"
   ]
  },
  {
   "cell_type": "code",
   "execution_count": 1,
   "id": "1694e2cb-b9d2-4421-b219-b157c1e20957",
   "metadata": {},
   "outputs": [
    {
     "data": {
      "text/plain": [
       "17"
      ]
     },
     "execution_count": 1,
     "metadata": {},
     "output_type": "execute_result"
    }
   ],
   "source": [
    "# This is a simple arithmetic expression to multiply then add integers\n",
    "(3 * 4) + 5\n"
   ]
  },
  {
   "cell_type": "code",
   "execution_count": 2,
   "id": "1c0e28da-e760-4e32-8c3e-8a32968d3e0e",
   "metadata": {},
   "outputs": [
    {
     "data": {
      "text/plain": [
       "3.3333333333333335"
      ]
     },
     "execution_count": 2,
     "metadata": {},
     "output_type": "execute_result"
    }
   ],
   "source": [
    "# This will convert 200 minutes to hours by dividing by 60\n",
    "200 / 60\n"
   ]
  },
  {
   "cell_type": "markdown",
   "id": "ce4c21b7-eadc-465d-865b-8c31e60afcba",
   "metadata": {},
   "source": [
    "## Author  \n",
    "Yogita Sanjiv Kanaki\n"
   ]
  },
  {
   "cell_type": "code",
   "execution_count": null,
   "id": "56a272d3-a5ba-492b-8057-03c6bdb9e48a",
   "metadata": {},
   "outputs": [],
   "source": []
  }
 ],
 "metadata": {
  "kernelspec": {
   "display_name": "Python 3 (ipykernel)",
   "language": "python",
   "name": "python3"
  },
  "language_info": {
   "codemirror_mode": {
    "name": "ipython",
    "version": 3
   },
   "file_extension": ".py",
   "mimetype": "text/x-python",
   "name": "python",
   "nbconvert_exporter": "python",
   "pygments_lexer": "ipython3",
   "version": "3.13.5"
  }
 },
 "nbformat": 4,
 "nbformat_minor": 5
}
